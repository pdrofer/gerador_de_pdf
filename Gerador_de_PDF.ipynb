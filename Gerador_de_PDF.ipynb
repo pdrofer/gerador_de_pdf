{
 "cells": [
  {
   "cell_type": "code",
   "execution_count": 2,
   "id": "4bff544b-4ca1-4177-989b-3006d8d93910",
   "metadata": {},
   "outputs": [
    {
     "name": "stdin",
     "output_type": "stream",
     "text": [
      "Digite a descrição do projeto:  Python\n",
      "Digite o total de horas estimadas:  200\n",
      "Digite o valor da hora trabalhada:  200\n",
      "Digite o prazo estimado:  3 meses\n"
     ]
    },
    {
     "name": "stdout",
     "output_type": "stream",
     "text": [
      "40000\n",
      "Orçamento gerado com sucesso!\n"
     ]
    }
   ],
   "source": [
    "#Gerando o PDF com o orçamento\n",
    "\n",
    "from fpdf import FPDF\n",
    "\n",
    "\n",
    "#Desenvolvendo as entradas de dados\n",
    "\n",
    "projeto = input(\"Digite a descrição do projeto: \")\n",
    "horas_estimadas = input(\"Digite o total de horas estimadas: \")\n",
    "valor_hora = input(\"Digite o valor da hora trabalhada: \")\n",
    "prazo_estimado = input(\"Digite o prazo estimado: \")\n",
    "\n",
    "\n",
    "#Criando o cálculo do valor estimado\n",
    "#Cálculo: valor total estimado = total de horas estimadas x valor da hora de trabalho\n",
    "\n",
    "valor_total_estimado = int(horas_estimadas) * int(valor_hora)\n",
    "print(valor_total_estimado)\n",
    "\n",
    "\n",
    "#Criando um arquivo PDF\n",
    "\n",
    "pdf = FPDF()\n",
    "pdf.add_page()\n",
    "pdf.set_font(\"Arial\")\n",
    "\n",
    "\n",
    "#Inserindo os dados no PDF\n",
    "\n",
    "pdf.image(\"template.png\", x=(0), y=(0))\n",
    "\n",
    "pdf.text(115, 145, projeto)\n",
    "pdf.text(115, 160, horas_estimadas)\n",
    "pdf.text(115, 175, valor_hora)\n",
    "pdf.text(115, 190, prazo_estimado)\n",
    "pdf.text(115, 205, str(valor_total_estimado))\n",
    "\n",
    "\n",
    "#Salvando o arquivo\n",
    "\n",
    "pdf.output(\"orçamento.pdf\")\n",
    "print(\"Orçamento gerado com sucesso!\")"
   ]
  },
  {
   "cell_type": "code",
   "execution_count": null,
   "id": "c7627a56-26c3-4c93-9053-8521fc7de0b3",
   "metadata": {},
   "outputs": [],
   "source": []
  }
 ],
 "metadata": {
  "kernelspec": {
   "display_name": "Python 3 (ipykernel)",
   "language": "python",
   "name": "python3"
  },
  "language_info": {
   "codemirror_mode": {
    "name": "ipython",
    "version": 3
   },
   "file_extension": ".py",
   "mimetype": "text/x-python",
   "name": "python",
   "nbconvert_exporter": "python",
   "pygments_lexer": "ipython3",
   "version": "3.11.7"
  }
 },
 "nbformat": 4,
 "nbformat_minor": 5
}
